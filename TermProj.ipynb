{
 "cells": [
  {
   "cell_type": "markdown",
   "metadata": {},
   "source": [
    "# NYT Spelling Bee\n"
   ]
  },
  {
   "cell_type": "code",
   "execution_count": 3,
   "metadata": {},
   "outputs": [],
   "source": [
    "import numpy as np\n",
    "import pandas as pd"
   ]
  },
  {
   "cell_type": "markdown",
   "metadata": {},
   "source": [
    "### Research Question\n",
    "How many features make a new york times spelling bee game have a bingo, which is when there is at least one word that begins with every letter."
   ]
  },
  {
   "cell_type": "markdown",
   "metadata": {},
   "source": [
    "### Hypothesis\n",
    "If there are certain letters and a certain amount of points and words in the puzzle, then we will have a bingo."
   ]
  },
  {
   "cell_type": "markdown",
   "metadata": {},
   "source": [
    "### Dataset\n",
    "#### Collection\n",
    "Collected by Malin Morris from the daily New York Times Games Spelling Bee puzzle using the hint line from the hints page. The dataset contains 612 puzzles and 40 features\n",
    "#### Variables\n",
    "Center Letter: the letter at the center of the puzzle that must be included in every word (most of the 26 letters appears at least once)\n",
    "Letters 1-6: the other letters in the puzzle, usually listed alphabetically (Each of the 26 letters appears at least once)\n",
    "Points: The number of points in the puzzle (4 letter words are 1 point, 5+ letters is 1 point per letter, pangrams are worth an additional 7)\n",
    "Words: the number of words in the puzzle solution\n",
    "Pangrams: the number of words that use every letter at least once (every puzzle has at least one)\n",
    "Perfect Pangrams: the number of words that use every letter exactly once\n",
    "Bingo: 1 if every letter begins at least one word, otherwise 0\n",
    "Date: the date of that puzzle (8/1/23-4/3/25)\n",
    "Non-perfect Pangrams: pangrams - perfect pangrams\n",
    "Number of Vowels: number of vowels (A, E, I, O, U, Y) in the puzzle\n",
    "ING, OUGH, TION, ED, UN, ABLE, IGHT, LY: whether or not the prefix or suffix exists in the puzzle. 1 if it is there, 0 otherwise\n",
    "NONE: if there are no prefixes or suffixes in the puzzle\n",
    "PPW: points per word (points / words) as a decimal number\n",
    "J, Q, V, W, X, Y, Z Bingo: whether there is bingo if one of the weird letters is in the puzzle\n",
    "C and K: whether C and K exist together in the puzzle\n",
    "C, K: used to calculate if C and K are (separately) in the puzzle\n",
    "Letters as a word: concatenates the letters together\n",
    "Word: alphabetizes the letters in the word to look for repeat pangrams\n",
    "Repeat Pangram: 1 if the pangram has appeared before 0 if not (if the entry in Word column appears more than once)\n",
    "Vowels as a Word: alphabetized vowels appearing in the puzzle\n",
    "#### Notes\n",
    "Editor Sam Ezersky is noted as saying there will never be an S in a puzzle, but the 2,500th puzzle on 3/12/25 did contain an S for the very first time"
   ]
  },
  {
   "cell_type": "code",
   "execution_count": 8,
   "metadata": {},
   "outputs": [
    {
     "name": "stdout",
     "output_type": "stream",
     "text": [
      "<class 'pandas.core.frame.DataFrame'>\n",
      "RangeIndex: 612 entries, 0 to 611\n",
      "Data columns (total 40 columns):\n",
      " #   Column                   Non-Null Count  Dtype         \n",
      "---  ------                   --------------  -----         \n",
      " 0   Center Letter            612 non-null    object        \n",
      " 1   Letter 1                 612 non-null    object        \n",
      " 2   Letter 2                 612 non-null    object        \n",
      " 3   Letter 3                 612 non-null    object        \n",
      " 4   Letter 4                 612 non-null    object        \n",
      " 5   Letter 5                 612 non-null    object        \n",
      " 6   Letter 6                 612 non-null    object        \n",
      " 7   Points                   612 non-null    int64         \n",
      " 8   Words                    612 non-null    int64         \n",
      " 9   Pangrams                 612 non-null    int64         \n",
      " 10  Perfect Pangrams         612 non-null    int64         \n",
      " 11  Bingo                    612 non-null    int64         \n",
      " 12  Date                     612 non-null    datetime64[ns]\n",
      " 13  Non-Perfect Pangrams     612 non-null    int64         \n",
      " 14  Number of Vowels         612 non-null    int64         \n",
      " 15  ING                      612 non-null    int64         \n",
      " 16  OUGH                     612 non-null    int64         \n",
      " 17  TION                     612 non-null    int64         \n",
      " 18  ED                       612 non-null    int64         \n",
      " 19  IN                       612 non-null    int64         \n",
      " 20  UN                       612 non-null    int64         \n",
      " 21  ABLE                     612 non-null    int64         \n",
      " 22  IGHT                     612 non-null    int64         \n",
      " 23  L1                       612 non-null    int64         \n",
      " 24  NONE                     612 non-null    int64         \n",
      " 25  Average Points per Word  612 non-null    float64       \n",
      " 26  Bingo if J               612 non-null    int64         \n",
      " 27  Bingo if Q               612 non-null    int64         \n",
      " 28  Bingo if V               612 non-null    int64         \n",
      " 29  Bingo if W               612 non-null    int64         \n",
      " 30  Bingo if X               612 non-null    int64         \n",
      " 31  Bingo if 1               612 non-null    int64         \n",
      " 32  Bingo if Z               612 non-null    int64         \n",
      " 33  C and K                  612 non-null    int64         \n",
      " 34  C                        612 non-null    int64         \n",
      " 35  K                        612 non-null    int64         \n",
      " 36  Letters as a Word        612 non-null    object        \n",
      " 37  Word                     612 non-null    object        \n",
      " 38  Repeat Pangram           612 non-null    int64         \n",
      " 39  Vowels as a word         612 non-null    object        \n",
      "dtypes: datetime64[ns](1), float64(1), int64(28), object(10)\n",
      "memory usage: 191.4+ KB\n"
     ]
    }
   ],
   "source": [
    "data = pd.read_excel(\"Spelling Bee Midterm 1.xlsx\")\n",
    "data = data.drop('Notes', axis = 1)\n",
    "data.info()"
   ]
  },
  {
   "cell_type": "markdown",
   "metadata": {},
   "source": [
    "### Data Preprocessing\n",
    "- drop features 10, 13, 15-39\n",
    "- target is 11\n",
    "- standardization on words and score\n",
    "\n",
    "- center letter should be one-hot encoded\n",
    "- all other letters should be combined and one-hot encoded.\n",
    "- drop puzzle with S (it's an outlier)"
   ]
  },
  {
   "cell_type": "markdown",
   "metadata": {},
   "source": [
    "### Data Analysis and Visualization\n",
    "- charts for each variable\n",
    "- bar plot for counts of each letter\n",
    "- perform t-test on each letter against the target variable\n",
    "- sort results in order"
   ]
  },
  {
   "cell_type": "markdown",
   "metadata": {},
   "source": [
    "### Data Modeling and Prediction\n",
    "- create and run model\n",
    "- train-test split"
   ]
  },
  {
   "cell_type": "markdown",
   "metadata": {},
   "source": [
    "### Results Analysis\n",
    "- write stuff\n",
    "- make presentation"
   ]
  }
 ],
 "metadata": {
  "kernelspec": {
   "display_name": "Python 3",
   "language": "python",
   "name": "python3"
  },
  "language_info": {
   "codemirror_mode": {
    "name": "ipython",
    "version": 3
   },
   "file_extension": ".py",
   "mimetype": "text/x-python",
   "name": "python",
   "nbconvert_exporter": "python",
   "pygments_lexer": "ipython3",
   "version": "3.12.9"
  }
 },
 "nbformat": 4,
 "nbformat_minor": 2
}
